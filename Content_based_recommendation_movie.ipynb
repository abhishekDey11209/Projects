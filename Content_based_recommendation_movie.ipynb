{
  "nbformat": 4,
  "nbformat_minor": 0,
  "metadata": {
    "colab": {
      "provenance": [],
      "authorship_tag": "ABX9TyOg7HZ0LQY4hBjkgFSXzwfr",
      "include_colab_link": true
    },
    "kernelspec": {
      "name": "python3",
      "display_name": "Python 3"
    },
    "language_info": {
      "name": "python"
    }
  },
  "cells": [
    {
      "cell_type": "markdown",
      "metadata": {
        "id": "view-in-github",
        "colab_type": "text"
      },
      "source": [
        "<a href=\"https://colab.research.google.com/github/abhishekDey11209/Projects/blob/main/Content_based_recommendation_movie.ipynb\" target=\"_parent\"><img src=\"https://colab.research.google.com/assets/colab-badge.svg\" alt=\"Open In Colab\"/></a>"
      ]
    },
    {
      "cell_type": "code",
      "source": [
        "#importing Libraries\n",
        "import pandas as pd\n",
        "import numpy as np\n",
        "import difflib      #used to find the close match given by the user\n",
        "from sklearn.feature_extraction.text import TfidfVectorizer\n",
        "from sklearn.metrics.pairwise import cosine_similarity"
      ],
      "metadata": {
        "id": "z2uw6Jh1W0GG"
      },
      "execution_count": 45,
      "outputs": []
    },
    {
      "cell_type": "markdown",
      "source": [
        "Data Collection and Pre Processing"
      ],
      "metadata": {
        "id": "mtcZ7OfHX3YP"
      }
    },
    {
      "cell_type": "code",
      "source": [
        "#loading the data in a pandas dataframe\n",
        "movies_df = pd.read_csv('movies.csv')\n",
        "\n",
        "#viewing all the rows and columns\n",
        "pd.set_option('display.max_columns', None)\n",
        "pd.set_option('display.max_rows', None)\n",
        "\n",
        "movies_df.head(1)"
      ],
      "metadata": {
        "colab": {
          "base_uri": "https://localhost:8080/",
          "height": 205
        },
        "id": "d527J5AcYBdh",
        "outputId": "6d4376a3-2a3e-4c30-c453-673382bc499d"
      },
      "execution_count": 198,
      "outputs": [
        {
          "output_type": "execute_result",
          "data": {
            "text/plain": [
              "   index     budget                                    genres  \\\n",
              "0      0  237000000  Action Adventure Fantasy Science Fiction   \n",
              "\n",
              "                      homepage     id  \\\n",
              "0  http://www.avatarmovie.com/  19995   \n",
              "\n",
              "                                            keywords original_language  \\\n",
              "0  culture clash future space war space colony so...                en   \n",
              "\n",
              "  original_title                                           overview  \\\n",
              "0         Avatar  In the 22nd century, a paraplegic Marine is di...   \n",
              "\n",
              "   popularity                               production_companies  \\\n",
              "0  150.437577  [{\"name\": \"Ingenious Film Partners\", \"id\": 289...   \n",
              "\n",
              "                                production_countries release_date     revenue  \\\n",
              "0  [{\"iso_3166_1\": \"US\", \"name\": \"United States o...   2009-12-10  2787965087   \n",
              "\n",
              "   runtime                                   spoken_languages    status  \\\n",
              "0    162.0  [{\"iso_639_1\": \"en\", \"name\": \"English\"}, {\"iso...  Released   \n",
              "\n",
              "                       tagline   title  vote_average  vote_count  \\\n",
              "0  Enter the World of Pandora.  Avatar           7.2       11800   \n",
              "\n",
              "                                                cast  \\\n",
              "0  Sam Worthington Zoe Saldana Sigourney Weaver S...   \n",
              "\n",
              "                                                crew       director  \n",
              "0  [{'name': 'Stephen E. Rivkin', 'gender': 0, 'd...  James Cameron  "
            ],
            "text/html": [
              "\n",
              "  <div id=\"df-487bd767-70ec-455f-bed8-a5ce62bc5d08\" class=\"colab-df-container\">\n",
              "    <div>\n",
              "<style scoped>\n",
              "    .dataframe tbody tr th:only-of-type {\n",
              "        vertical-align: middle;\n",
              "    }\n",
              "\n",
              "    .dataframe tbody tr th {\n",
              "        vertical-align: top;\n",
              "    }\n",
              "\n",
              "    .dataframe thead th {\n",
              "        text-align: right;\n",
              "    }\n",
              "</style>\n",
              "<table border=\"1\" class=\"dataframe\">\n",
              "  <thead>\n",
              "    <tr style=\"text-align: right;\">\n",
              "      <th></th>\n",
              "      <th>index</th>\n",
              "      <th>budget</th>\n",
              "      <th>genres</th>\n",
              "      <th>homepage</th>\n",
              "      <th>id</th>\n",
              "      <th>keywords</th>\n",
              "      <th>original_language</th>\n",
              "      <th>original_title</th>\n",
              "      <th>overview</th>\n",
              "      <th>popularity</th>\n",
              "      <th>production_companies</th>\n",
              "      <th>production_countries</th>\n",
              "      <th>release_date</th>\n",
              "      <th>revenue</th>\n",
              "      <th>runtime</th>\n",
              "      <th>spoken_languages</th>\n",
              "      <th>status</th>\n",
              "      <th>tagline</th>\n",
              "      <th>title</th>\n",
              "      <th>vote_average</th>\n",
              "      <th>vote_count</th>\n",
              "      <th>cast</th>\n",
              "      <th>crew</th>\n",
              "      <th>director</th>\n",
              "    </tr>\n",
              "  </thead>\n",
              "  <tbody>\n",
              "    <tr>\n",
              "      <th>0</th>\n",
              "      <td>0</td>\n",
              "      <td>237000000</td>\n",
              "      <td>Action Adventure Fantasy Science Fiction</td>\n",
              "      <td>http://www.avatarmovie.com/</td>\n",
              "      <td>19995</td>\n",
              "      <td>culture clash future space war space colony so...</td>\n",
              "      <td>en</td>\n",
              "      <td>Avatar</td>\n",
              "      <td>In the 22nd century, a paraplegic Marine is di...</td>\n",
              "      <td>150.437577</td>\n",
              "      <td>[{\"name\": \"Ingenious Film Partners\", \"id\": 289...</td>\n",
              "      <td>[{\"iso_3166_1\": \"US\", \"name\": \"United States o...</td>\n",
              "      <td>2009-12-10</td>\n",
              "      <td>2787965087</td>\n",
              "      <td>162.0</td>\n",
              "      <td>[{\"iso_639_1\": \"en\", \"name\": \"English\"}, {\"iso...</td>\n",
              "      <td>Released</td>\n",
              "      <td>Enter the World of Pandora.</td>\n",
              "      <td>Avatar</td>\n",
              "      <td>7.2</td>\n",
              "      <td>11800</td>\n",
              "      <td>Sam Worthington Zoe Saldana Sigourney Weaver S...</td>\n",
              "      <td>[{'name': 'Stephen E. Rivkin', 'gender': 0, 'd...</td>\n",
              "      <td>James Cameron</td>\n",
              "    </tr>\n",
              "  </tbody>\n",
              "</table>\n",
              "</div>\n",
              "    <div class=\"colab-df-buttons\">\n",
              "\n",
              "  <div class=\"colab-df-container\">\n",
              "    <button class=\"colab-df-convert\" onclick=\"convertToInteractive('df-487bd767-70ec-455f-bed8-a5ce62bc5d08')\"\n",
              "            title=\"Convert this dataframe to an interactive table.\"\n",
              "            style=\"display:none;\">\n",
              "\n",
              "  <svg xmlns=\"http://www.w3.org/2000/svg\" height=\"24px\" viewBox=\"0 -960 960 960\">\n",
              "    <path d=\"M120-120v-720h720v720H120Zm60-500h600v-160H180v160Zm220 220h160v-160H400v160Zm0 220h160v-160H400v160ZM180-400h160v-160H180v160Zm440 0h160v-160H620v160ZM180-180h160v-160H180v160Zm440 0h160v-160H620v160Z\"/>\n",
              "  </svg>\n",
              "    </button>\n",
              "\n",
              "  <style>\n",
              "    .colab-df-container {\n",
              "      display:flex;\n",
              "      gap: 12px;\n",
              "    }\n",
              "\n",
              "    .colab-df-convert {\n",
              "      background-color: #E8F0FE;\n",
              "      border: none;\n",
              "      border-radius: 50%;\n",
              "      cursor: pointer;\n",
              "      display: none;\n",
              "      fill: #1967D2;\n",
              "      height: 32px;\n",
              "      padding: 0 0 0 0;\n",
              "      width: 32px;\n",
              "    }\n",
              "\n",
              "    .colab-df-convert:hover {\n",
              "      background-color: #E2EBFA;\n",
              "      box-shadow: 0px 1px 2px rgba(60, 64, 67, 0.3), 0px 1px 3px 1px rgba(60, 64, 67, 0.15);\n",
              "      fill: #174EA6;\n",
              "    }\n",
              "\n",
              "    .colab-df-buttons div {\n",
              "      margin-bottom: 4px;\n",
              "    }\n",
              "\n",
              "    [theme=dark] .colab-df-convert {\n",
              "      background-color: #3B4455;\n",
              "      fill: #D2E3FC;\n",
              "    }\n",
              "\n",
              "    [theme=dark] .colab-df-convert:hover {\n",
              "      background-color: #434B5C;\n",
              "      box-shadow: 0px 1px 3px 1px rgba(0, 0, 0, 0.15);\n",
              "      filter: drop-shadow(0px 1px 2px rgba(0, 0, 0, 0.3));\n",
              "      fill: #FFFFFF;\n",
              "    }\n",
              "  </style>\n",
              "\n",
              "    <script>\n",
              "      const buttonEl =\n",
              "        document.querySelector('#df-487bd767-70ec-455f-bed8-a5ce62bc5d08 button.colab-df-convert');\n",
              "      buttonEl.style.display =\n",
              "        google.colab.kernel.accessAllowed ? 'block' : 'none';\n",
              "\n",
              "      async function convertToInteractive(key) {\n",
              "        const element = document.querySelector('#df-487bd767-70ec-455f-bed8-a5ce62bc5d08');\n",
              "        const dataTable =\n",
              "          await google.colab.kernel.invokeFunction('convertToInteractive',\n",
              "                                                    [key], {});\n",
              "        if (!dataTable) return;\n",
              "\n",
              "        const docLinkHtml = 'Like what you see? Visit the ' +\n",
              "          '<a target=\"_blank\" href=https://colab.research.google.com/notebooks/data_table.ipynb>data table notebook</a>'\n",
              "          + ' to learn more about interactive tables.';\n",
              "        element.innerHTML = '';\n",
              "        dataTable['output_type'] = 'display_data';\n",
              "        await google.colab.output.renderOutput(dataTable, element);\n",
              "        const docLink = document.createElement('div');\n",
              "        docLink.innerHTML = docLinkHtml;\n",
              "        element.appendChild(docLink);\n",
              "      }\n",
              "    </script>\n",
              "  </div>\n",
              "\n",
              "    </div>\n",
              "  </div>\n"
            ]
          },
          "metadata": {},
          "execution_count": 198
        }
      ]
    },
    {
      "cell_type": "code",
      "source": [
        "#checking the rows and columns of the dataframe\n",
        "movies_df.shape"
      ],
      "metadata": {
        "colab": {
          "base_uri": "https://localhost:8080/"
        },
        "id": "aEjCuARkYNXT",
        "outputId": "9ae477b1-9851-4243-c940-24024e43fd52"
      },
      "execution_count": 3,
      "outputs": [
        {
          "output_type": "execute_result",
          "data": {
            "text/plain": [
              "(4803, 24)"
            ]
          },
          "metadata": {},
          "execution_count": 3
        }
      ]
    },
    {
      "cell_type": "code",
      "source": [
        "#checking the name of the coulmns\n",
        "movies_df.columns"
      ],
      "metadata": {
        "colab": {
          "base_uri": "https://localhost:8080/"
        },
        "id": "IEt3Bt6taGUX",
        "outputId": "15de3e93-090a-4fd1-cc45-f174ea1ab024"
      },
      "execution_count": 199,
      "outputs": [
        {
          "output_type": "execute_result",
          "data": {
            "text/plain": [
              "Index(['index', 'budget', 'genres', 'homepage', 'id', 'keywords',\n",
              "       'original_language', 'original_title', 'overview', 'popularity',\n",
              "       'production_companies', 'production_countries', 'release_date',\n",
              "       'revenue', 'runtime', 'spoken_languages', 'status', 'tagline', 'title',\n",
              "       'vote_average', 'vote_count', 'cast', 'crew', 'director'],\n",
              "      dtype='object')"
            ]
          },
          "metadata": {},
          "execution_count": 199
        }
      ]
    },
    {
      "cell_type": "code",
      "source": [
        "#selecting features that we need\n",
        "features = ['genres', 'keywords','overview','tagline', 'title', 'cast', 'director']"
      ],
      "metadata": {
        "id": "FyqUII6gaUpk"
      },
      "execution_count": 200,
      "outputs": []
    },
    {
      "cell_type": "code",
      "source": [
        "#handle missing values (null values replacing with empty string) in a DataFrame using pandas\n",
        "for i in features:\n",
        "  movies_df[i] = movies_df[i].fillna('')\n"
      ],
      "metadata": {
        "id": "jBMLXDNXjlr_"
      },
      "execution_count": 201,
      "outputs": []
    },
    {
      "cell_type": "code",
      "source": [
        "movies_df.head(1)"
      ],
      "metadata": {
        "colab": {
          "base_uri": "https://localhost:8080/",
          "height": 205
        },
        "id": "wNREVj_MkeHt",
        "outputId": "9faf940f-1b29-46ca-a837-c2da3eeb0af1"
      },
      "execution_count": 202,
      "outputs": [
        {
          "output_type": "execute_result",
          "data": {
            "text/plain": [
              "   index     budget                                    genres  \\\n",
              "0      0  237000000  Action Adventure Fantasy Science Fiction   \n",
              "\n",
              "                      homepage     id  \\\n",
              "0  http://www.avatarmovie.com/  19995   \n",
              "\n",
              "                                            keywords original_language  \\\n",
              "0  culture clash future space war space colony so...                en   \n",
              "\n",
              "  original_title                                           overview  \\\n",
              "0         Avatar  In the 22nd century, a paraplegic Marine is di...   \n",
              "\n",
              "   popularity                               production_companies  \\\n",
              "0  150.437577  [{\"name\": \"Ingenious Film Partners\", \"id\": 289...   \n",
              "\n",
              "                                production_countries release_date     revenue  \\\n",
              "0  [{\"iso_3166_1\": \"US\", \"name\": \"United States o...   2009-12-10  2787965087   \n",
              "\n",
              "   runtime                                   spoken_languages    status  \\\n",
              "0    162.0  [{\"iso_639_1\": \"en\", \"name\": \"English\"}, {\"iso...  Released   \n",
              "\n",
              "                       tagline   title  vote_average  vote_count  \\\n",
              "0  Enter the World of Pandora.  Avatar           7.2       11800   \n",
              "\n",
              "                                                cast  \\\n",
              "0  Sam Worthington Zoe Saldana Sigourney Weaver S...   \n",
              "\n",
              "                                                crew       director  \n",
              "0  [{'name': 'Stephen E. Rivkin', 'gender': 0, 'd...  James Cameron  "
            ],
            "text/html": [
              "\n",
              "  <div id=\"df-72adb78f-6cf0-456b-9cc6-f49a4dc7f046\" class=\"colab-df-container\">\n",
              "    <div>\n",
              "<style scoped>\n",
              "    .dataframe tbody tr th:only-of-type {\n",
              "        vertical-align: middle;\n",
              "    }\n",
              "\n",
              "    .dataframe tbody tr th {\n",
              "        vertical-align: top;\n",
              "    }\n",
              "\n",
              "    .dataframe thead th {\n",
              "        text-align: right;\n",
              "    }\n",
              "</style>\n",
              "<table border=\"1\" class=\"dataframe\">\n",
              "  <thead>\n",
              "    <tr style=\"text-align: right;\">\n",
              "      <th></th>\n",
              "      <th>index</th>\n",
              "      <th>budget</th>\n",
              "      <th>genres</th>\n",
              "      <th>homepage</th>\n",
              "      <th>id</th>\n",
              "      <th>keywords</th>\n",
              "      <th>original_language</th>\n",
              "      <th>original_title</th>\n",
              "      <th>overview</th>\n",
              "      <th>popularity</th>\n",
              "      <th>production_companies</th>\n",
              "      <th>production_countries</th>\n",
              "      <th>release_date</th>\n",
              "      <th>revenue</th>\n",
              "      <th>runtime</th>\n",
              "      <th>spoken_languages</th>\n",
              "      <th>status</th>\n",
              "      <th>tagline</th>\n",
              "      <th>title</th>\n",
              "      <th>vote_average</th>\n",
              "      <th>vote_count</th>\n",
              "      <th>cast</th>\n",
              "      <th>crew</th>\n",
              "      <th>director</th>\n",
              "    </tr>\n",
              "  </thead>\n",
              "  <tbody>\n",
              "    <tr>\n",
              "      <th>0</th>\n",
              "      <td>0</td>\n",
              "      <td>237000000</td>\n",
              "      <td>Action Adventure Fantasy Science Fiction</td>\n",
              "      <td>http://www.avatarmovie.com/</td>\n",
              "      <td>19995</td>\n",
              "      <td>culture clash future space war space colony so...</td>\n",
              "      <td>en</td>\n",
              "      <td>Avatar</td>\n",
              "      <td>In the 22nd century, a paraplegic Marine is di...</td>\n",
              "      <td>150.437577</td>\n",
              "      <td>[{\"name\": \"Ingenious Film Partners\", \"id\": 289...</td>\n",
              "      <td>[{\"iso_3166_1\": \"US\", \"name\": \"United States o...</td>\n",
              "      <td>2009-12-10</td>\n",
              "      <td>2787965087</td>\n",
              "      <td>162.0</td>\n",
              "      <td>[{\"iso_639_1\": \"en\", \"name\": \"English\"}, {\"iso...</td>\n",
              "      <td>Released</td>\n",
              "      <td>Enter the World of Pandora.</td>\n",
              "      <td>Avatar</td>\n",
              "      <td>7.2</td>\n",
              "      <td>11800</td>\n",
              "      <td>Sam Worthington Zoe Saldana Sigourney Weaver S...</td>\n",
              "      <td>[{'name': 'Stephen E. Rivkin', 'gender': 0, 'd...</td>\n",
              "      <td>James Cameron</td>\n",
              "    </tr>\n",
              "  </tbody>\n",
              "</table>\n",
              "</div>\n",
              "    <div class=\"colab-df-buttons\">\n",
              "\n",
              "  <div class=\"colab-df-container\">\n",
              "    <button class=\"colab-df-convert\" onclick=\"convertToInteractive('df-72adb78f-6cf0-456b-9cc6-f49a4dc7f046')\"\n",
              "            title=\"Convert this dataframe to an interactive table.\"\n",
              "            style=\"display:none;\">\n",
              "\n",
              "  <svg xmlns=\"http://www.w3.org/2000/svg\" height=\"24px\" viewBox=\"0 -960 960 960\">\n",
              "    <path d=\"M120-120v-720h720v720H120Zm60-500h600v-160H180v160Zm220 220h160v-160H400v160Zm0 220h160v-160H400v160ZM180-400h160v-160H180v160Zm440 0h160v-160H620v160ZM180-180h160v-160H180v160Zm440 0h160v-160H620v160Z\"/>\n",
              "  </svg>\n",
              "    </button>\n",
              "\n",
              "  <style>\n",
              "    .colab-df-container {\n",
              "      display:flex;\n",
              "      gap: 12px;\n",
              "    }\n",
              "\n",
              "    .colab-df-convert {\n",
              "      background-color: #E8F0FE;\n",
              "      border: none;\n",
              "      border-radius: 50%;\n",
              "      cursor: pointer;\n",
              "      display: none;\n",
              "      fill: #1967D2;\n",
              "      height: 32px;\n",
              "      padding: 0 0 0 0;\n",
              "      width: 32px;\n",
              "    }\n",
              "\n",
              "    .colab-df-convert:hover {\n",
              "      background-color: #E2EBFA;\n",
              "      box-shadow: 0px 1px 2px rgba(60, 64, 67, 0.3), 0px 1px 3px 1px rgba(60, 64, 67, 0.15);\n",
              "      fill: #174EA6;\n",
              "    }\n",
              "\n",
              "    .colab-df-buttons div {\n",
              "      margin-bottom: 4px;\n",
              "    }\n",
              "\n",
              "    [theme=dark] .colab-df-convert {\n",
              "      background-color: #3B4455;\n",
              "      fill: #D2E3FC;\n",
              "    }\n",
              "\n",
              "    [theme=dark] .colab-df-convert:hover {\n",
              "      background-color: #434B5C;\n",
              "      box-shadow: 0px 1px 3px 1px rgba(0, 0, 0, 0.15);\n",
              "      filter: drop-shadow(0px 1px 2px rgba(0, 0, 0, 0.3));\n",
              "      fill: #FFFFFF;\n",
              "    }\n",
              "  </style>\n",
              "\n",
              "    <script>\n",
              "      const buttonEl =\n",
              "        document.querySelector('#df-72adb78f-6cf0-456b-9cc6-f49a4dc7f046 button.colab-df-convert');\n",
              "      buttonEl.style.display =\n",
              "        google.colab.kernel.accessAllowed ? 'block' : 'none';\n",
              "\n",
              "      async function convertToInteractive(key) {\n",
              "        const element = document.querySelector('#df-72adb78f-6cf0-456b-9cc6-f49a4dc7f046');\n",
              "        const dataTable =\n",
              "          await google.colab.kernel.invokeFunction('convertToInteractive',\n",
              "                                                    [key], {});\n",
              "        if (!dataTable) return;\n",
              "\n",
              "        const docLinkHtml = 'Like what you see? Visit the ' +\n",
              "          '<a target=\"_blank\" href=https://colab.research.google.com/notebooks/data_table.ipynb>data table notebook</a>'\n",
              "          + ' to learn more about interactive tables.';\n",
              "        element.innerHTML = '';\n",
              "        dataTable['output_type'] = 'display_data';\n",
              "        await google.colab.output.renderOutput(dataTable, element);\n",
              "        const docLink = document.createElement('div');\n",
              "        docLink.innerHTML = docLinkHtml;\n",
              "        element.appendChild(docLink);\n",
              "      }\n",
              "    </script>\n",
              "  </div>\n",
              "\n",
              "    </div>\n",
              "  </div>\n"
            ]
          },
          "metadata": {},
          "execution_count": 202
        }
      ]
    },
    {
      "cell_type": "code",
      "source": [
        "movies_df.dtypes"
      ],
      "metadata": {
        "colab": {
          "base_uri": "https://localhost:8080/"
        },
        "id": "tCXLTBouscWF",
        "outputId": "7183cada-4f8c-45ab-8f87-dd8bf788b9bc"
      },
      "execution_count": 203,
      "outputs": [
        {
          "output_type": "execute_result",
          "data": {
            "text/plain": [
              "index                     int64\n",
              "budget                    int64\n",
              "genres                   object\n",
              "homepage                 object\n",
              "id                        int64\n",
              "keywords                 object\n",
              "original_language        object\n",
              "original_title           object\n",
              "overview                 object\n",
              "popularity              float64\n",
              "production_companies     object\n",
              "production_countries     object\n",
              "release_date             object\n",
              "revenue                   int64\n",
              "runtime                 float64\n",
              "spoken_languages         object\n",
              "status                   object\n",
              "tagline                  object\n",
              "title                    object\n",
              "vote_average            float64\n",
              "vote_count                int64\n",
              "cast                     object\n",
              "crew                     object\n",
              "director                 object\n",
              "dtype: object"
            ]
          },
          "metadata": {},
          "execution_count": 203
        }
      ]
    },
    {
      "cell_type": "code",
      "source": [
        "movies = movies_df[['index', 'title', 'genres', 'keywords','overview','tagline', 'cast', 'director']]"
      ],
      "metadata": {
        "id": "nK43d6bXnemE"
      },
      "execution_count": 204,
      "outputs": []
    },
    {
      "cell_type": "code",
      "source": [
        "movies.head(1)"
      ],
      "metadata": {
        "colab": {
          "base_uri": "https://localhost:8080/",
          "height": 115
        },
        "id": "bEqQjliroD-G",
        "outputId": "f8b9e494-8c60-42b6-dae2-e8ffa70760df"
      },
      "execution_count": 206,
      "outputs": [
        {
          "output_type": "execute_result",
          "data": {
            "text/plain": [
              "   index   title                                    genres  \\\n",
              "0      0  Avatar  Action Adventure Fantasy Science Fiction   \n",
              "\n",
              "                                            keywords  \\\n",
              "0  culture clash future space war space colony so...   \n",
              "\n",
              "                                            overview  \\\n",
              "0  In the 22nd century, a paraplegic Marine is di...   \n",
              "\n",
              "                       tagline  \\\n",
              "0  Enter the World of Pandora.   \n",
              "\n",
              "                                                cast       director  \n",
              "0  Sam Worthington Zoe Saldana Sigourney Weaver S...  James Cameron  "
            ],
            "text/html": [
              "\n",
              "  <div id=\"df-359ab5f4-57fe-4ec8-8739-a0d994d44116\" class=\"colab-df-container\">\n",
              "    <div>\n",
              "<style scoped>\n",
              "    .dataframe tbody tr th:only-of-type {\n",
              "        vertical-align: middle;\n",
              "    }\n",
              "\n",
              "    .dataframe tbody tr th {\n",
              "        vertical-align: top;\n",
              "    }\n",
              "\n",
              "    .dataframe thead th {\n",
              "        text-align: right;\n",
              "    }\n",
              "</style>\n",
              "<table border=\"1\" class=\"dataframe\">\n",
              "  <thead>\n",
              "    <tr style=\"text-align: right;\">\n",
              "      <th></th>\n",
              "      <th>index</th>\n",
              "      <th>title</th>\n",
              "      <th>genres</th>\n",
              "      <th>keywords</th>\n",
              "      <th>overview</th>\n",
              "      <th>tagline</th>\n",
              "      <th>cast</th>\n",
              "      <th>director</th>\n",
              "    </tr>\n",
              "  </thead>\n",
              "  <tbody>\n",
              "    <tr>\n",
              "      <th>0</th>\n",
              "      <td>0</td>\n",
              "      <td>Avatar</td>\n",
              "      <td>Action Adventure Fantasy Science Fiction</td>\n",
              "      <td>culture clash future space war space colony so...</td>\n",
              "      <td>In the 22nd century, a paraplegic Marine is di...</td>\n",
              "      <td>Enter the World of Pandora.</td>\n",
              "      <td>Sam Worthington Zoe Saldana Sigourney Weaver S...</td>\n",
              "      <td>James Cameron</td>\n",
              "    </tr>\n",
              "  </tbody>\n",
              "</table>\n",
              "</div>\n",
              "    <div class=\"colab-df-buttons\">\n",
              "\n",
              "  <div class=\"colab-df-container\">\n",
              "    <button class=\"colab-df-convert\" onclick=\"convertToInteractive('df-359ab5f4-57fe-4ec8-8739-a0d994d44116')\"\n",
              "            title=\"Convert this dataframe to an interactive table.\"\n",
              "            style=\"display:none;\">\n",
              "\n",
              "  <svg xmlns=\"http://www.w3.org/2000/svg\" height=\"24px\" viewBox=\"0 -960 960 960\">\n",
              "    <path d=\"M120-120v-720h720v720H120Zm60-500h600v-160H180v160Zm220 220h160v-160H400v160Zm0 220h160v-160H400v160ZM180-400h160v-160H180v160Zm440 0h160v-160H620v160ZM180-180h160v-160H180v160Zm440 0h160v-160H620v160Z\"/>\n",
              "  </svg>\n",
              "    </button>\n",
              "\n",
              "  <style>\n",
              "    .colab-df-container {\n",
              "      display:flex;\n",
              "      gap: 12px;\n",
              "    }\n",
              "\n",
              "    .colab-df-convert {\n",
              "      background-color: #E8F0FE;\n",
              "      border: none;\n",
              "      border-radius: 50%;\n",
              "      cursor: pointer;\n",
              "      display: none;\n",
              "      fill: #1967D2;\n",
              "      height: 32px;\n",
              "      padding: 0 0 0 0;\n",
              "      width: 32px;\n",
              "    }\n",
              "\n",
              "    .colab-df-convert:hover {\n",
              "      background-color: #E2EBFA;\n",
              "      box-shadow: 0px 1px 2px rgba(60, 64, 67, 0.3), 0px 1px 3px 1px rgba(60, 64, 67, 0.15);\n",
              "      fill: #174EA6;\n",
              "    }\n",
              "\n",
              "    .colab-df-buttons div {\n",
              "      margin-bottom: 4px;\n",
              "    }\n",
              "\n",
              "    [theme=dark] .colab-df-convert {\n",
              "      background-color: #3B4455;\n",
              "      fill: #D2E3FC;\n",
              "    }\n",
              "\n",
              "    [theme=dark] .colab-df-convert:hover {\n",
              "      background-color: #434B5C;\n",
              "      box-shadow: 0px 1px 3px 1px rgba(0, 0, 0, 0.15);\n",
              "      filter: drop-shadow(0px 1px 2px rgba(0, 0, 0, 0.3));\n",
              "      fill: #FFFFFF;\n",
              "    }\n",
              "  </style>\n",
              "\n",
              "    <script>\n",
              "      const buttonEl =\n",
              "        document.querySelector('#df-359ab5f4-57fe-4ec8-8739-a0d994d44116 button.colab-df-convert');\n",
              "      buttonEl.style.display =\n",
              "        google.colab.kernel.accessAllowed ? 'block' : 'none';\n",
              "\n",
              "      async function convertToInteractive(key) {\n",
              "        const element = document.querySelector('#df-359ab5f4-57fe-4ec8-8739-a0d994d44116');\n",
              "        const dataTable =\n",
              "          await google.colab.kernel.invokeFunction('convertToInteractive',\n",
              "                                                    [key], {});\n",
              "        if (!dataTable) return;\n",
              "\n",
              "        const docLinkHtml = 'Like what you see? Visit the ' +\n",
              "          '<a target=\"_blank\" href=https://colab.research.google.com/notebooks/data_table.ipynb>data table notebook</a>'\n",
              "          + ' to learn more about interactive tables.';\n",
              "        element.innerHTML = '';\n",
              "        dataTable['output_type'] = 'display_data';\n",
              "        await google.colab.output.renderOutput(dataTable, element);\n",
              "        const docLink = document.createElement('div');\n",
              "        docLink.innerHTML = docLinkHtml;\n",
              "        element.appendChild(docLink);\n",
              "      }\n",
              "    </script>\n",
              "  </div>\n",
              "\n",
              "    </div>\n",
              "  </div>\n"
            ]
          },
          "metadata": {},
          "execution_count": 206
        }
      ]
    },
    {
      "cell_type": "code",
      "source": [
        "#creating a copy of original dataframe movies and removing the duplicates\n",
        "movies1 = movies.drop_duplicates(subset='title')\n",
        "\n",
        "# Reset the index of 'movies1' to start from 0\n",
        "movies1.reset_index(drop=True, inplace=True)\n",
        "movies1.shape"
      ],
      "metadata": {
        "colab": {
          "base_uri": "https://localhost:8080/"
        },
        "id": "JNNxnLI8qSJW",
        "outputId": "ea43d2dc-5288-4648-cf54-0673bb526031"
      },
      "execution_count": 207,
      "outputs": [
        {
          "output_type": "execute_result",
          "data": {
            "text/plain": [
              "(4800, 8)"
            ]
          },
          "metadata": {},
          "execution_count": 207
        }
      ]
    },
    {
      "cell_type": "markdown",
      "source": [
        "Feature extraction\n"
      ],
      "metadata": {
        "id": "yYoIodB8E9g8"
      }
    },
    {
      "cell_type": "code",
      "source": [
        "#concating the features into new a new columns\n",
        "movies1['combined_features'] = movies1['title']+ ' ' + movies1['genres']+ ' ' + movies1['keywords']+ ' ' + movies1['overview']+ ' ' + movies1['tagline']+ ' ' + movies1['cast']+ ' ' + movies1['director']"
      ],
      "metadata": {
        "colab": {
          "base_uri": "https://localhost:8080/"
        },
        "id": "q_gBCdwAqnu9",
        "outputId": "132997fc-58bc-4f07-b821-ec718336d857"
      },
      "execution_count": 208,
      "outputs": [
        {
          "output_type": "stream",
          "name": "stderr",
          "text": [
            "<ipython-input-208-faedb239f4b3>:2: SettingWithCopyWarning: \n",
            "A value is trying to be set on a copy of a slice from a DataFrame.\n",
            "Try using .loc[row_indexer,col_indexer] = value instead\n",
            "\n",
            "See the caveats in the documentation: https://pandas.pydata.org/pandas-docs/stable/user_guide/indexing.html#returning-a-view-versus-a-copy\n",
            "  movies1['combined_features'] = movies1['title']+ ' ' + movies1['genres']+ ' ' + movies1['keywords']+ ' ' + movies1['overview']+ ' ' + movies1['tagline']+ ' ' + movies1['cast']+ ' ' + movies1['director']\n"
          ]
        }
      ]
    },
    {
      "cell_type": "code",
      "source": [
        "movies1.head(1)"
      ],
      "metadata": {
        "colab": {
          "base_uri": "https://localhost:8080/",
          "height": 133
        },
        "id": "VZ2cEuwdrVy6",
        "outputId": "4c77beca-1e39-499e-96d6-8afd83722afd"
      },
      "execution_count": 209,
      "outputs": [
        {
          "output_type": "execute_result",
          "data": {
            "text/plain": [
              "   index   title                                    genres  \\\n",
              "0      0  Avatar  Action Adventure Fantasy Science Fiction   \n",
              "\n",
              "                                            keywords  \\\n",
              "0  culture clash future space war space colony so...   \n",
              "\n",
              "                                            overview  \\\n",
              "0  In the 22nd century, a paraplegic Marine is di...   \n",
              "\n",
              "                       tagline  \\\n",
              "0  Enter the World of Pandora.   \n",
              "\n",
              "                                                cast       director  \\\n",
              "0  Sam Worthington Zoe Saldana Sigourney Weaver S...  James Cameron   \n",
              "\n",
              "                                   combined_features  \n",
              "0  Avatar Action Adventure Fantasy Science Fictio...  "
            ],
            "text/html": [
              "\n",
              "  <div id=\"df-2f727f18-8b57-4296-bcbc-50ce0be890f6\" class=\"colab-df-container\">\n",
              "    <div>\n",
              "<style scoped>\n",
              "    .dataframe tbody tr th:only-of-type {\n",
              "        vertical-align: middle;\n",
              "    }\n",
              "\n",
              "    .dataframe tbody tr th {\n",
              "        vertical-align: top;\n",
              "    }\n",
              "\n",
              "    .dataframe thead th {\n",
              "        text-align: right;\n",
              "    }\n",
              "</style>\n",
              "<table border=\"1\" class=\"dataframe\">\n",
              "  <thead>\n",
              "    <tr style=\"text-align: right;\">\n",
              "      <th></th>\n",
              "      <th>index</th>\n",
              "      <th>title</th>\n",
              "      <th>genres</th>\n",
              "      <th>keywords</th>\n",
              "      <th>overview</th>\n",
              "      <th>tagline</th>\n",
              "      <th>cast</th>\n",
              "      <th>director</th>\n",
              "      <th>combined_features</th>\n",
              "    </tr>\n",
              "  </thead>\n",
              "  <tbody>\n",
              "    <tr>\n",
              "      <th>0</th>\n",
              "      <td>0</td>\n",
              "      <td>Avatar</td>\n",
              "      <td>Action Adventure Fantasy Science Fiction</td>\n",
              "      <td>culture clash future space war space colony so...</td>\n",
              "      <td>In the 22nd century, a paraplegic Marine is di...</td>\n",
              "      <td>Enter the World of Pandora.</td>\n",
              "      <td>Sam Worthington Zoe Saldana Sigourney Weaver S...</td>\n",
              "      <td>James Cameron</td>\n",
              "      <td>Avatar Action Adventure Fantasy Science Fictio...</td>\n",
              "    </tr>\n",
              "  </tbody>\n",
              "</table>\n",
              "</div>\n",
              "    <div class=\"colab-df-buttons\">\n",
              "\n",
              "  <div class=\"colab-df-container\">\n",
              "    <button class=\"colab-df-convert\" onclick=\"convertToInteractive('df-2f727f18-8b57-4296-bcbc-50ce0be890f6')\"\n",
              "            title=\"Convert this dataframe to an interactive table.\"\n",
              "            style=\"display:none;\">\n",
              "\n",
              "  <svg xmlns=\"http://www.w3.org/2000/svg\" height=\"24px\" viewBox=\"0 -960 960 960\">\n",
              "    <path d=\"M120-120v-720h720v720H120Zm60-500h600v-160H180v160Zm220 220h160v-160H400v160Zm0 220h160v-160H400v160ZM180-400h160v-160H180v160Zm440 0h160v-160H620v160ZM180-180h160v-160H180v160Zm440 0h160v-160H620v160Z\"/>\n",
              "  </svg>\n",
              "    </button>\n",
              "\n",
              "  <style>\n",
              "    .colab-df-container {\n",
              "      display:flex;\n",
              "      gap: 12px;\n",
              "    }\n",
              "\n",
              "    .colab-df-convert {\n",
              "      background-color: #E8F0FE;\n",
              "      border: none;\n",
              "      border-radius: 50%;\n",
              "      cursor: pointer;\n",
              "      display: none;\n",
              "      fill: #1967D2;\n",
              "      height: 32px;\n",
              "      padding: 0 0 0 0;\n",
              "      width: 32px;\n",
              "    }\n",
              "\n",
              "    .colab-df-convert:hover {\n",
              "      background-color: #E2EBFA;\n",
              "      box-shadow: 0px 1px 2px rgba(60, 64, 67, 0.3), 0px 1px 3px 1px rgba(60, 64, 67, 0.15);\n",
              "      fill: #174EA6;\n",
              "    }\n",
              "\n",
              "    .colab-df-buttons div {\n",
              "      margin-bottom: 4px;\n",
              "    }\n",
              "\n",
              "    [theme=dark] .colab-df-convert {\n",
              "      background-color: #3B4455;\n",
              "      fill: #D2E3FC;\n",
              "    }\n",
              "\n",
              "    [theme=dark] .colab-df-convert:hover {\n",
              "      background-color: #434B5C;\n",
              "      box-shadow: 0px 1px 3px 1px rgba(0, 0, 0, 0.15);\n",
              "      filter: drop-shadow(0px 1px 2px rgba(0, 0, 0, 0.3));\n",
              "      fill: #FFFFFF;\n",
              "    }\n",
              "  </style>\n",
              "\n",
              "    <script>\n",
              "      const buttonEl =\n",
              "        document.querySelector('#df-2f727f18-8b57-4296-bcbc-50ce0be890f6 button.colab-df-convert');\n",
              "      buttonEl.style.display =\n",
              "        google.colab.kernel.accessAllowed ? 'block' : 'none';\n",
              "\n",
              "      async function convertToInteractive(key) {\n",
              "        const element = document.querySelector('#df-2f727f18-8b57-4296-bcbc-50ce0be890f6');\n",
              "        const dataTable =\n",
              "          await google.colab.kernel.invokeFunction('convertToInteractive',\n",
              "                                                    [key], {});\n",
              "        if (!dataTable) return;\n",
              "\n",
              "        const docLinkHtml = 'Like what you see? Visit the ' +\n",
              "          '<a target=\"_blank\" href=https://colab.research.google.com/notebooks/data_table.ipynb>data table notebook</a>'\n",
              "          + ' to learn more about interactive tables.';\n",
              "        element.innerHTML = '';\n",
              "        dataTable['output_type'] = 'display_data';\n",
              "        await google.colab.output.renderOutput(dataTable, element);\n",
              "        const docLink = document.createElement('div');\n",
              "        docLink.innerHTML = docLinkHtml;\n",
              "        element.appendChild(docLink);\n",
              "      }\n",
              "    </script>\n",
              "  </div>\n",
              "\n",
              "    </div>\n",
              "  </div>\n"
            ]
          },
          "metadata": {},
          "execution_count": 209
        }
      ]
    },
    {
      "cell_type": "code",
      "source": [
        "##Alternative way to concat the features\n",
        "\n",
        "#concatinating all the featurs and adding a new column in movies dataframe\n",
        "# List of columns to concatenate\n",
        "\n",
        "#columns_to_concat = ['index', 'title', 'genres', 'keywords', 'overview', 'tagline', 'cast', 'director']\n",
        "\n",
        "\n",
        "\n",
        "# Create a new column 'combined_text' containing the concatenated text\n",
        "\n",
        "\n",
        "#movies1['combined_text'] = movies1[columns_to_concat].apply(lambda row: ' '.join(row.values.astype(str)), axis=1)\n"
      ],
      "metadata": {
        "id": "Uwcp-5KqoVOi"
      },
      "execution_count": 89,
      "outputs": []
    },
    {
      "cell_type": "code",
      "source": [
        "#converting text data to feature vector\n",
        "vectorization = TfidfVectorizer()\n",
        "\n",
        "text_vectorization = vectorization.fit_transform(movies1['combined_features'])"
      ],
      "metadata": {
        "id": "cAFandn8sDXN"
      },
      "execution_count": 216,
      "outputs": []
    },
    {
      "cell_type": "code",
      "source": [
        "print(text_vectorization)"
      ],
      "metadata": {
        "id": "5AwRQyBetoSf"
      },
      "execution_count": null,
      "outputs": []
    },
    {
      "cell_type": "code",
      "source": [
        "#getting the similarty score using cosine_similarity\n",
        "cos = cosine_similarity(text_vectorization)"
      ],
      "metadata": {
        "id": "BNC5n-3mu4t5"
      },
      "execution_count": 212,
      "outputs": []
    },
    {
      "cell_type": "code",
      "source": [
        "print(cos)"
      ],
      "metadata": {
        "colab": {
          "base_uri": "https://localhost:8080/"
        },
        "id": "PaMtL6sEvKBt",
        "outputId": "f56836ab-bb6e-439c-a3d3-e9b5872eb339"
      },
      "execution_count": 213,
      "outputs": [
        {
          "output_type": "stream",
          "name": "stdout",
          "text": [
            "[[1.         0.05401348 0.03085241 ... 0.02435463 0.02809774 0.00665853]\n",
            " [0.05401348 1.         0.04099888 ... 0.05355352 0.03667816 0.01552801]\n",
            " [0.03085241 0.04099888 1.         ... 0.0227007  0.04256264 0.01229254]\n",
            " ...\n",
            " [0.02435463 0.05355352 0.0227007  ... 1.         0.02988431 0.03920881]\n",
            " [0.02809774 0.03667816 0.04256264 ... 0.02988431 1.         0.02880436]\n",
            " [0.00665853 0.01552801 0.01229254 ... 0.03920881 0.02880436 1.        ]]\n"
          ]
        }
      ]
    },
    {
      "cell_type": "code",
      "source": [
        "movie_name = input('entre the name of the movie : ')"
      ],
      "metadata": {
        "colab": {
          "base_uri": "https://localhost:8080/"
        },
        "id": "gDso7RTvzZP5",
        "outputId": "4989345d-4f78-4903-93ce-3f06887e3187"
      },
      "execution_count": 167,
      "outputs": [
        {
          "name": "stdout",
          "output_type": "stream",
          "text": [
            "entre the name of the movie : avatar\n"
          ]
        }
      ]
    },
    {
      "cell_type": "code",
      "source": [
        "#finding the close match given by the user\n",
        "\n",
        "movie_titles = movies1['title'].tolist()\n",
        "find_close_match = difflib.get_close_matches(movie_name,movie_titles)"
      ],
      "metadata": {
        "id": "iJ_ax3bzxVTH"
      },
      "execution_count": 168,
      "outputs": []
    },
    {
      "cell_type": "code",
      "source": [
        "find_close_match"
      ],
      "metadata": {
        "colab": {
          "base_uri": "https://localhost:8080/"
        },
        "id": "PbUc_kZlxyS7",
        "outputId": "329e3e0a-2969-4f65-f307-2f4e49a33fb2"
      },
      "execution_count": 169,
      "outputs": [
        {
          "output_type": "execute_result",
          "data": {
            "text/plain": [
              "['Avatar']"
            ]
          },
          "metadata": {},
          "execution_count": 169
        }
      ]
    },
    {
      "cell_type": "code",
      "source": [
        "#only taking the first value from the list\n",
        "close_match = find_close_match[0]"
      ],
      "metadata": {
        "id": "jQAf-9Dh1gU8"
      },
      "execution_count": 170,
      "outputs": []
    },
    {
      "cell_type": "code",
      "source": [
        "#find the index of the movie\n",
        "dummy_value = movies1[movies1['title'] == close_match]\n",
        "dummby_value_index  = dummy_value['index'].values[0]"
      ],
      "metadata": {
        "id": "lfOTY7Gr4dcc"
      },
      "execution_count": 171,
      "outputs": []
    },
    {
      "cell_type": "code",
      "source": [
        "dummby_value_index"
      ],
      "metadata": {
        "colab": {
          "base_uri": "https://localhost:8080/"
        },
        "id": "guR4HWT-5KrG",
        "outputId": "bb5bc41b-07f3-4df5-ccee-eabbe8c7be0d"
      },
      "execution_count": 172,
      "outputs": [
        {
          "output_type": "execute_result",
          "data": {
            "text/plain": [
              "0"
            ]
          },
          "metadata": {},
          "execution_count": 172
        }
      ]
    },
    {
      "cell_type": "code",
      "source": [
        "#getting the similarity score of that perticualr movies\n",
        "cos_score = list(enumerate(cos[dummby_value_index]))"
      ],
      "metadata": {
        "id": "QHGMlqFR5awf"
      },
      "execution_count": 173,
      "outputs": []
    },
    {
      "cell_type": "code",
      "source": [
        "cos_score.sort(key=lambda x: x[1], reverse=True)"
      ],
      "metadata": {
        "id": "BhjnJe-E89kt"
      },
      "execution_count": 174,
      "outputs": []
    },
    {
      "cell_type": "code",
      "source": [
        "#take top 20 values with higest similarity score\n",
        "top_20_indexes = cos_score[:20]"
      ],
      "metadata": {
        "id": "RX10fy2b-zjV"
      },
      "execution_count": 175,
      "outputs": []
    },
    {
      "cell_type": "code",
      "source": [
        "top_20_indexes"
      ],
      "metadata": {
        "id": "5-jM2Fn7_76I"
      },
      "execution_count": null,
      "outputs": []
    },
    {
      "cell_type": "code",
      "source": [
        "#extracting the indexes from the list\n",
        "new_top_20_indexes = []\n",
        "for index, score in top_20_indexes:\n",
        "    new_top_20_indexes.append(index)"
      ],
      "metadata": {
        "id": "MANAbfnAAeYU"
      },
      "execution_count": 177,
      "outputs": []
    },
    {
      "cell_type": "code",
      "source": [
        "new_top_20_indexes"
      ],
      "metadata": {
        "id": "5T8AvYjOBSCr"
      },
      "execution_count": null,
      "outputs": []
    },
    {
      "cell_type": "code",
      "source": [
        "#prining top 20 recommended movies\n",
        "\n",
        "print(\"Suggested movies: \\n\")\n",
        "\n",
        "for i in new_top_20_indexes:\n",
        "  recommended_movies = movies[movies['index'] == i]\n",
        "  print(recommended_movies['title'].values[0])"
      ],
      "metadata": {
        "id": "DUkEIXEuBS-1"
      },
      "execution_count": null,
      "outputs": []
    },
    {
      "cell_type": "markdown",
      "source": [
        "Incorporating all the codes in a single cell"
      ],
      "metadata": {
        "id": "yZc17YpNEeAA"
      }
    },
    {
      "cell_type": "code",
      "source": [
        "movie_name = input('Entre the name of the movie : ')\n",
        "movie_titles = movies1['title'].tolist()\n",
        "#finding the closest values from the list\n",
        "find_close_match = difflib.get_close_matches(movie_name,movie_titles)\n",
        "\n",
        "#only taking the first value from the list\n",
        "close_match = find_close_match[0]\n",
        "\n",
        "#find the index of the movie\n",
        "dummy_value = movies1[movies1['title'] == close_match]\n",
        "dummby_value_index  = dummy_value['index'].values[0]\n",
        "\n",
        "#getting the similarity score of that perticualr movies\n",
        "cos_score = list(enumerate(cos[dummby_value_index]))\n",
        "\n",
        "#sorting the similarity score in descending order\n",
        "cos_score.sort(key=lambda x: x[1], reverse=True)\n",
        "\n",
        "#take top 20 values\n",
        "top_20_indexes = cos_score[:20]\n",
        "\n",
        "#extracting the indexes from the list\n",
        "new_top_20_indexes = []\n",
        "for index, score in top_20_indexes:\n",
        "    new_top_20_indexes.append(index)\n",
        "\n",
        "#prining top 20 recommended movies\n",
        "\n",
        "print(\"Suggested movies: \\n\")\n",
        "\n",
        "for i in new_top_20_indexes:\n",
        "  recommended_movies = movies[movies['index'] == i]\n",
        "  title = recommended_movies['title'].values[0]\n",
        "  genres = recommended_movies['genres'].values[0]\n",
        "\n",
        "    # Print the information\n",
        "  print(f\"Title: {title}\")\n",
        "  print(f\"Genres: {genres}\")\n",
        "  print(\"\\n\")"
      ],
      "metadata": {
        "colab": {
          "base_uri": "https://localhost:8080/"
        },
        "id": "SNvgWjduB7y3",
        "outputId": "db0ba403-9ba5-45ef-9ed1-2bef1bc4bec7"
      },
      "execution_count": 225,
      "outputs": [
        {
          "output_type": "stream",
          "name": "stdout",
          "text": [
            "Entre the name of the movie : Avengers\n",
            "Suggested movies: \n",
            "\n",
            "Title: The Avengers\n",
            "Genres: Science Fiction Action Adventure\n",
            "\n",
            "\n",
            "Title: Avengers: Age of Ultron\n",
            "Genres: Action Adventure Science Fiction\n",
            "\n",
            "\n",
            "Title: Captain America: The Winter Soldier\n",
            "Genres: Action Adventure Science Fiction\n",
            "\n",
            "\n",
            "Title: Captain America: Civil War\n",
            "Genres: Adventure Action Science Fiction\n",
            "\n",
            "\n",
            "Title: Iron Man 2\n",
            "Genres: Adventure Action Science Fiction\n",
            "\n",
            "\n",
            "Title: X-Men\n",
            "Genres: Adventure Action Science Fiction\n",
            "\n",
            "\n",
            "Title: The Incredible Hulk\n",
            "Genres: Science Fiction Action Adventure\n",
            "\n",
            "\n",
            "Title: Thor: The Dark World\n",
            "Genres: Action Adventure Fantasy\n",
            "\n",
            "\n",
            "Title: X-Men: Apocalypse\n",
            "Genres: Science Fiction\n",
            "\n",
            "\n",
            "Title: Captain America: The First Avenger\n",
            "Genres: Action Adventure Science Fiction\n",
            "\n",
            "\n",
            "Title: Iron Man 3\n",
            "Genres: Action Adventure Science Fiction\n",
            "\n",
            "\n",
            "Title: X-Men: Days of Future Past\n",
            "Genres: Action Adventure Fantasy Science Fiction\n",
            "\n",
            "\n",
            "Title: Ant-Man\n",
            "Genres: Science Fiction Action Adventure\n",
            "\n",
            "\n",
            "Title: X-Men: The Last Stand\n",
            "Genres: Adventure Action Science Fiction Thriller\n",
            "\n",
            "\n",
            "Title: Iron Man\n",
            "Genres: Action Science Fiction Adventure\n",
            "\n",
            "\n",
            "Title: X-Men: First Class\n",
            "Genres: Action Science Fiction Adventure\n",
            "\n",
            "\n",
            "Title: X2\n",
            "Genres: Adventure Action Science Fiction Thriller\n",
            "\n",
            "\n",
            "Title: Man of Steel\n",
            "Genres: Action Adventure Fantasy Science Fiction\n",
            "\n",
            "\n",
            "Title: Thor\n",
            "Genres: Adventure Fantasy Action\n",
            "\n",
            "\n",
            "Title: The Amazing Spider-Man 2\n",
            "Genres: Action Adventure Fantasy\n",
            "\n",
            "\n"
          ]
        }
      ]
    },
    {
      "cell_type": "code",
      "source": [],
      "metadata": {
        "id": "4uGGO7VHEKHP"
      },
      "execution_count": null,
      "outputs": []
    }
  ]
}